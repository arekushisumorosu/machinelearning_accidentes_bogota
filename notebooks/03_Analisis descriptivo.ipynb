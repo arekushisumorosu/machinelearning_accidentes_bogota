{
 "cells": [
  {
   "cell_type": "code",
   "execution_count": 2,
   "metadata": {},
   "outputs": [],
   "source": [
    "import os\n",
    "import sys\n",
    "\n",
    "sys.path.append(os.path.dirname(os.getcwd()))\n",
    "\n",
    "# ruta_monic = \"C:\\\\Users\\\\monic\\\\ml_accident_bgta\"\n",
    "# sys.path.append(ruta_monic)\n",
    "\n",
    "from src.config.setup import SetupConfig\n",
    "from src.data_workflow.create_tables.create_tables import retrieve_all_table_data\n",
    "\n",
    "\n",
    "\n",
    "import pandas as pd\n",
    "import numpy as np\n",
    "import os\n",
    "import seaborn as sns\n",
    "import matplotlib.pyplot as plt\n",
    "import folium"
   ]
  },
  {
   "cell_type": "markdown",
   "metadata": {},
   "source": [
    "**Para acceder a los datos lo podemos hacer usando la función:**\n",
    "\n",
    "`retrieve_all_table_data(<table_name>)`\n",
    "\n",
    "Parámetros:\n",
    "- table_name: nombre de la tabla\n",
    "\n",
    "Para acceder al nombre de la tabla, hacerlo a tráves de la clase SetupConfig:\n",
    "- `SetupConfig.TABLE_ACCIDENTE`\n",
    "- `SetupConfig.TABLE_ACTOR_VIAL`\n",
    "- `SetupConfig.TABLE_CAUSA`\n",
    "- `SetupConfig.TABLE_LESIONADO`\n",
    "- `SetupConfig.TABLE_MUERTO`\n",
    "- `SetupConfig.TABLE_VEHICULO`\n",
    "- `SetupConfig.TABLE_VIA`"
   ]
  },
  {
   "cell_type": "markdown",
   "metadata": {},
   "source": [
    "# Lectura base de datos"
   ]
  },
  {
   "cell_type": "code",
   "execution_count": 4,
   "metadata": {},
   "outputs": [
    {
     "name": "stdout",
     "output_type": "stream",
     "text": [
      "El dataset tiene 250182 filas y 16 columnas \n",
      "El dataset tiene 8106 filas y 18 columnas \n",
      "El dataset tiene 473883 filas y 18 columnas \n",
      "El dataset tiene 1443037 filas y 9 columnas \n",
      "El dataset tiene 1677376 filas y 14 columnas \n",
      "El dataset tiene 683654 filas y 10 columnas \n",
      "El dataset tiene 483952 filas y 19 columnas \n"
     ]
    }
   ],
   "source": [
    "LESIONADO = retrieve_all_table_data(SetupConfig.TABLE_LESIONADO)\n",
    "print(f'El dataset tiene {LESIONADO.shape[0]} filas y {LESIONADO.shape[1]} columnas ')\n",
    "\n",
    "MUERTO = retrieve_all_table_data(SetupConfig.TABLE_MUERTO)\n",
    "print(f'El dataset tiene {MUERTO.shape[0]} filas y {MUERTO.shape[1]} columnas ')\n",
    "\n",
    "ACCIDENTE = retrieve_all_table_data(SetupConfig.TABLE_ACCIDENTE)\n",
    "print(f'El dataset tiene {ACCIDENTE.shape[0]} filas y {ACCIDENTE.shape[1]} columnas ')\n",
    "\n",
    "VEHICULO = retrieve_all_table_data(SetupConfig.TABLE_VEHICULO)\n",
    "print(f'El dataset tiene {VEHICULO.shape[0]} filas y {VEHICULO.shape[1]} columnas ')\n",
    "\n",
    "ACTORVIAL = retrieve_all_table_data(SetupConfig.TABLE_ACTOR_VIAL)\n",
    "print(f'El dataset tiene {ACTORVIAL.shape[0]} filas y {ACTORVIAL.shape[1]} columnas ')\n",
    "\n",
    "CAUSA = retrieve_all_table_data(SetupConfig.TABLE_CAUSA)\n",
    "print(f'El dataset tiene {CAUSA.shape[0]} filas y {CAUSA.shape[1]} columnas ')\n",
    "\n",
    "VIA = retrieve_all_table_data(SetupConfig.TABLE_VIA)\n",
    "print(f'El dataset tiene {VIA.shape[0]} filas y {VIA.shape[1]} columnas ')\n"
   ]
  },
  {
   "cell_type": "markdown",
   "metadata": {},
   "source": [
    "# Descriptiva univariada"
   ]
  },
  {
   "cell_type": "markdown",
   "metadata": {},
   "source": [
    "## Accidente"
   ]
  },
  {
   "cell_type": "code",
   "execution_count": null,
   "metadata": {},
   "outputs": [],
   "source": [
    "tabla = ACCIDENTE.groupby(['GRAVEDAD'])['FORMULARIO'].count().reset_index()\n",
    "tabla"
   ]
  },
  {
   "cell_type": "code",
   "execution_count": null,
   "metadata": {},
   "outputs": [],
   "source": [
    "# Crear el gráfico de pastel\n",
    "plt.figure(figsize=(8, 6))\n",
    "sns.set_palette(\"dark\")\n",
    "sns.set(style=\"whitegrid\")\n",
    "plt.pie(tabla[\"FORMULARIO\"], labels=tabla[\"GRAVEDAD\"], autopct='%1.1f%%', startangle=140)\n",
    "plt.axis('equal')  # Equal aspect ratio ensures that pie is drawn as a circle.\n",
    "\n",
    "# Título del gráfico\n",
    "plt.title('Gravedad Siniestros')\n",
    "\n",
    "# Mostrar el gráfico\n",
    "plt.show()"
   ]
  },
  {
   "cell_type": "code",
   "execution_count": null,
   "metadata": {},
   "outputs": [],
   "source": [
    "tabla = ACCIDENTE.groupby(['CLASE_ACC'])['FORMULARIO'].count().reset_index()\n",
    "tabla"
   ]
  },
  {
   "cell_type": "code",
   "execution_count": null,
   "metadata": {},
   "outputs": [],
   "source": [
    "# Crear el gráfico de pastel\n",
    "plt.figure(figsize=(8, 6))\n",
    "sns.set_palette(\"Set2\")\n",
    "sns.set(style=\"whitegrid\")\n",
    "plt.pie(tabla[\"FORMULARIO\"], labels=tabla[\"CLASE_ACC\"], autopct='%1.1f%%', startangle=140, textprops={'fontsize': 9})\n",
    "plt.axis('equal')  # Equal aspect ratio ensures that pie is drawn as a circle.\n",
    "\n",
    "# Título del gráfico\n",
    "plt.title('Clase de Siniestro')\n",
    "\n",
    "# Mostrar el gráfico\n",
    "plt.show()"
   ]
  },
  {
   "cell_type": "code",
   "execution_count": null,
   "metadata": {},
   "outputs": [],
   "source": [
    "tabla = ACCIDENTE.groupby(['LATITUD', 'LONGITUD'])['FORMULARIO'].count().reset_index()\n",
    "tabla = tabla.sort_values(by=\"FORMULARIO\", ascending=False)\n",
    "tabla"
   ]
  },
  {
   "cell_type": "code",
   "execution_count": null,
   "metadata": {},
   "outputs": [],
   "source": [
    "import folium\n",
    "from folium.plugins import HeatMap\n",
    "import pandas as pd\n",
    "\n",
    "m = folium.Map(location=[tabla['LATITUD'].mean(), tabla['LONGITUD'].mean()], zoom_start=11)\n",
    "# Convertir las coordenadas a una lista de listas\n",
    "data = tabla[['LATITUD', 'LONGITUD', 'FORMULARIO']].values.tolist()\n",
    "\n",
    "gradient = {0.2: 'blue',  0.6: 'yellow',  1: 'red'}\n",
    "# Crear el mapa de calor\n",
    "HeatMap(data, radius=10, max_zoom=13, gradient=gradient).add_to(m)\n",
    "\n",
    "# Guardar el mapa\n",
    "m.save('mapa_accidentes_heatmap.html')"
   ]
  },
  {
   "cell_type": "code",
   "execution_count": null,
   "metadata": {},
   "outputs": [],
   "source": [
    "## NUMERO DE ACCIDENTES AÑO\n",
    "tabla = ACCIDENTE.groupby(['ANO_OCURRENCIA_ACC'])['FORMULARIO'].count().reset_index()\n",
    "plt.figure(figsize=(12, 6))\n",
    "sns.barplot(tabla, x=\"ANO_OCURRENCIA_ACC\", y=\"FORMULARIO\")\n",
    "plt.ylabel(\"Cantidad Siniestros\")"
   ]
  },
  {
   "cell_type": "code",
   "execution_count": null,
   "metadata": {},
   "outputs": [],
   "source": [
    "tabla = ACCIDENTE.groupby(['MES_OCURRENCIA_ACC'])['FORMULARIO'].count().reset_index()\n",
    "orden_meses = pd.DataFrame({\"MES\":[\"ENERO\", \"FEBRERO\", \"MARZO\", \"ABRIL\", \"MAYO\", \"JUNIO\", \"JULIO\", \"AGOSTO\",\"SEPTIEMBRE\", \"OCTUBRE\", \"NOVIEMBRE\", \"DICIEMBRE\"],\n",
    "                            \"MES_NUM\": [1, 2, 3, 4, 5, 6, 7, 8, 9, 10, 11, 12]})\n",
    "orden_meses\n",
    "# Ordenar el DataFrame por el valor numérico de los meses\n",
    "tabla = pd.merge(tabla, orden_meses, left_on=\"MES_OCURRENCIA_ACC\", right_on=\"MES\", how = \"left\")\n",
    "tabla = tabla.sort_values(by='MES_NUM').reset_index(drop=True)\n",
    "tabla\n",
    "\n"
   ]
  },
  {
   "cell_type": "code",
   "execution_count": null,
   "metadata": {},
   "outputs": [],
   "source": [
    "# Gráfico\n",
    "plt.figure(figsize=(13, 6))\n",
    "sns.barplot(tabla, x=\"MES_OCURRENCIA_ACC\", y=\"FORMULARIO\")\n",
    "plt.ylabel(\"Cantidad Siniestros\")"
   ]
  },
  {
   "cell_type": "code",
   "execution_count": null,
   "metadata": {},
   "outputs": [],
   "source": [
    "tabla = ACCIDENTE.groupby(['DIA_OCURRENCIA_ACC'])['FORMULARIO'].count().reset_index()\n",
    "orden_dias = pd.DataFrame({\"DIA\":[\"LUNES\", \"MARTES\", \"MIERCOLES\", \"JUEVES\", \"VIERNES\", \"SABADO\", \"DOMINGO\"],\n",
    "                            \"DIA_NUM\": [1, 2, 3, 4, 5, 6, 7]})\n",
    "orden_meses\n",
    "# Ordenar el DataFrame por el valor numérico de los meses\n",
    "tabla = pd.merge(tabla, orden_dias, left_on=\"DIA_OCURRENCIA_ACC\", right_on=\"DIA\", how = \"left\")\n",
    "tabla = tabla.sort_values(by='DIA_NUM').reset_index(drop=True)\n",
    "tabla"
   ]
  },
  {
   "cell_type": "code",
   "execution_count": null,
   "metadata": {},
   "outputs": [],
   "source": [
    "# Gráfico\n",
    "plt.figure(figsize=(13, 6))\n",
    "sns.barplot(tabla, x=\"DIA_OCURRENCIA_ACC\", y=\"FORMULARIO\")\n",
    "plt.ylabel(\"Cantidad Siniestros\")"
   ]
  },
  {
   "cell_type": "code",
   "execution_count": null,
   "metadata": {},
   "outputs": [],
   "source": [
    "tabla = ACCIDENTE.groupby(['HORA_OCURRENCIA_ACC'])['FORMULARIO'].count().reset_index()\n",
    "tabla['HORA_OCURRENCIA_ACC'] = pd.to_datetime(tabla['HORA_OCURRENCIA_ACC'])\n",
    "tabla_grouped = tabla.groupby(tabla['HORA_OCURRENCIA_ACC'].dt.strftime('%H:00:00'))['FORMULARIO'].sum().reset_index()\n",
    "tabla_grouped"
   ]
  },
  {
   "cell_type": "code",
   "execution_count": null,
   "metadata": {},
   "outputs": [],
   "source": [
    "plt.figure(figsize=(10, 6))\n",
    "plt.plot(tabla_grouped['HORA_OCURRENCIA_ACC'], tabla_grouped['FORMULARIO'])\n",
    "plt.title('Siniestros por hora')\n",
    "plt.xlabel('Hora de ocurrencia')\n",
    "plt.ylabel('Cantidad Siniestros')\n",
    "plt.grid(True)\n",
    "plt.xticks(rotation=45)\n",
    "plt.tight_layout()\n",
    "plt.show()"
   ]
  },
  {
   "cell_type": "markdown",
   "metadata": {},
   "source": [
    "## Actor Vial"
   ]
  },
  {
   "cell_type": "code",
   "execution_count": null,
   "metadata": {},
   "outputs": [],
   "source": [
    "ActorVial.head(5)"
   ]
  },
  {
   "cell_type": "code",
   "execution_count": null,
   "metadata": {},
   "outputs": [],
   "source": [
    "#ActorVial[ActorVial[\"Formulario\"] == \"A000239725\"]\n",
    "tabla = ActorVial.groupby(['FORMULARIO']).agg(\"size\").reset_index(name = \"conteo\")\n",
    "tabla = tabla.sort_values(by = \"conteo\", ascending=False)\n",
    "\n",
    "# Definir los intervalos\n",
    "bins = [0, 20, 40, 60, 80]\n",
    "\n",
    "# Crear los intervalos y contar la frecuencia\n",
    "conteo_intervalos = pd.cut(tabla['conteo'], bins=bins).value_counts().sort_index()\n",
    "conteo_intervalos"
   ]
  },
  {
   "cell_type": "code",
   "execution_count": null,
   "metadata": {},
   "outputs": [],
   "source": [
    "tabla.describe()"
   ]
  },
  {
   "cell_type": "code",
   "execution_count": null,
   "metadata": {},
   "outputs": [],
   "source": [
    "tabla = ActorVial.groupby(['CONDICION']).agg(\"size\").reset_index(name = \"conteo\")\n",
    "# Gráfico\n",
    "plt.figure(figsize=(9, 4))\n",
    "sns.barplot(tabla, x='CONDICION', y=\"conteo\")\n",
    "plt.ylabel(\"Cantidad Accidentados\")\n",
    "plt.ticklabel_format(style='plain', axis='y')\n",
    "\n",
    "for index, row in tabla.iterrows():\n",
    "    plt.text(index, row.conteo, f\"{row.conteo:,}\", color='black', ha=\"center\")\n",
    "    \n",
    "plt.show()"
   ]
  },
  {
   "cell_type": "code",
   "execution_count": null,
   "metadata": {},
   "outputs": [],
   "source": [
    "tabla = ActorVial.groupby(['Estado'.upper()]).agg(\"size\").reset_index(name = \"conteo\")\n",
    "print(tabla)\n",
    "# Gráfico\n",
    "plt.figure(figsize=(9, 4))\n",
    "sns.barplot(tabla, x=\"Estado\".upper(), y=\"conteo\")\n",
    "plt.ylabel(\"Cantidad Accidentados\")\n",
    "plt.ticklabel_format(style='plain', axis='y')\n",
    "\n",
    "for index, row in tabla.iterrows():\n",
    "    plt.text(index, row.conteo, f\"{row.conteo:,}\", color='black', ha=\"center\")\n",
    "    \n",
    "plt.show()"
   ]
  },
  {
   "cell_type": "code",
   "execution_count": null,
   "metadata": {},
   "outputs": [],
   "source": [
    "tabla = ActorVial.groupby(['MUERTE_POSTERIOR']).agg(\"size\").reset_index(name = \"conteo\")\n",
    "# Crear el gráfico de pastel\n",
    "plt.figure(figsize=(8, 6))\n",
    "sns.set_palette(\"dark\")\n",
    "sns.set(style=\"whitegrid\")\n",
    "plt.pie(tabla[\"conteo\"], labels=tabla[\"MUERTE_POSTERIOR\"], autopct='%1.1f%%', startangle=140)\n",
    "plt.axis('equal')  # Equal aspect ratio ensures that pie is drawn as a circle.\n",
    "\n",
    "# Título del gráfico\n",
    "plt.title('Muerte Posterior')\n",
    "\n",
    "# Mostrar el gráfico\n",
    "plt.show()"
   ]
  },
  {
   "cell_type": "code",
   "execution_count": null,
   "metadata": {},
   "outputs": [],
   "source": [
    "tabla = ActorVial.groupby(['GENERO']).agg(\"size\").reset_index(name = \"conteo\")\n",
    "print(tabla)\n",
    "# Gráfico\n",
    "plt.figure(figsize=(9, 4))\n",
    "sns.barplot(tabla, x=\"GENERO\", y=\"conteo\")\n",
    "plt.ylabel(\"Genero Accidentados\")\n",
    "plt.ticklabel_format(style='plain', axis='y')\n",
    "\n",
    "for index, row in tabla.iterrows():\n",
    "    plt.text(index, row.conteo, f\"{row.conteo:,}\", color='black', ha=\"center\")\n",
    "    \n",
    "plt.show()"
   ]
  },
  {
   "cell_type": "code",
   "execution_count": null,
   "metadata": {},
   "outputs": [],
   "source": [
    "ActorVial[\"EDAD\"].describe().round(0)"
   ]
  },
  {
   "cell_type": "code",
   "execution_count": null,
   "metadata": {},
   "outputs": [],
   "source": []
  },
  {
   "cell_type": "markdown",
   "metadata": {},
   "source": [
    "# Seleccion variables para cruce semana 6"
   ]
  },
  {
   "cell_type": "markdown",
   "metadata": {},
   "source": [
    "## Union Lesionado y Muerto"
   ]
  },
  {
   "cell_type": "markdown",
   "metadata": {},
   "source": [
    "Se une la tabla lesionado y muerto, identificando con variable indicadora, si fue lesionado o muerto <br>\n",
    "Se omite 37 registros que no tienen \"CLASE_ACC\" <br>\n",
    "Se omite 1 registro que no tiene \"CONDICION\" <br>\n",
    "Se omite 64399 registros que no tiene codigo vehiculo <br>\t\t\n",
    "Cant data inicial: 258288, Cant data final = 193862. Prueba inicial 75% de los datos iniciales. <br>\n"
   ]
  },
  {
   "cell_type": "code",
   "execution_count": 5,
   "metadata": {},
   "outputs": [
    {
     "name": "stdout",
     "output_type": "stream",
     "text": [
      "(258288, 16) \n",
      " NA CLASE_ACC 37 \n",
      " NA CONDICION 1 \n",
      " NA CODIGO_VEHICULO 64399\n",
      "(193862, 16)\n"
     ]
    }
   ],
   "source": [
    "LESIONADO = LESIONADO.drop([\"OBJECTID\"], axis=1)\n",
    "LESIONADO[\"ESTADO_ACCIDENTADO\"] = \"LESIONADO\"\n",
    "\n",
    "MUERTO = MUERTO.drop([\"OBJECTID\", \"MUERTE_POSTERIOR\", \"FECHA_POSTERIOR_MUERTE\"], axis=1)\n",
    "MUERTO[\"ESTADO_ACCIDENTADO\"] = \"MUERTO\"\n",
    "\n",
    "ESTADO_ACCIDENTADO = pd.concat([LESIONADO, MUERTO], axis=0, ignore_index=True).sort_values(by=\"FORMULARIO\")\n",
    "print(ESTADO_ACCIDENTADO.shape, \n",
    "      \"\\n NA CLASE_ACC\", sum(ESTADO_ACCIDENTADO[\"CLASE_ACC\"].isna()),\n",
    "      \"\\n NA CONDICION\", sum(ESTADO_ACCIDENTADO[\"CONDICION\"].isna()), \n",
    "      \"\\n NA CODIGO_VEHICULO\", sum(ESTADO_ACCIDENTADO[\"CODIGO_VEHICULO\"].isna())\n",
    "      )\n",
    "ESTADO_ACCIDENTADO = ESTADO_ACCIDENTADO[~ESTADO_ACCIDENTADO[\"CLASE_ACC\"].isna()]\n",
    "ESTADO_ACCIDENTADO = ESTADO_ACCIDENTADO[~ESTADO_ACCIDENTADO[\"CONDICION\"].isna()]\n",
    "ESTADO_ACCIDENTADO = ESTADO_ACCIDENTADO[~ESTADO_ACCIDENTADO[\"CODIGO_VEHICULO\"].isna()]\n",
    "ESTADO_ACCIDENTADO[\"CODIGO_VEHICULO\"] = ESTADO_ACCIDENTADO[\"CODIGO_VEHICULO\"].astype(\"Int64\")\n",
    "\n",
    "print(ESTADO_ACCIDENTADO.shape)"
   ]
  },
  {
   "cell_type": "code",
   "execution_count": null,
   "metadata": {},
   "outputs": [],
   "source": []
  },
  {
   "cell_type": "markdown",
   "metadata": {},
   "source": [
    "## Accidente\n",
    "Usado para llevar a la tabla anterior (union lesionado muerto) el codigo del accidente para construir el codigo"
   ]
  },
  {
   "cell_type": "code",
   "execution_count": 6,
   "metadata": {},
   "outputs": [],
   "source": [
    "ACCIDENTE['CODIGO_ACCIDENTE'] = ACCIDENTE['CODIGO_ACCIDENTE'].astype(str)\n",
    "ACCIDENTE = ACCIDENTE[[\"FORMULARIO\", \"CODIGO_ACCIDENTE\"]]"
   ]
  },
  {
   "cell_type": "markdown",
   "metadata": {},
   "source": []
  },
  {
   "cell_type": "markdown",
   "metadata": {},
   "source": [
    "## Vehiculo\n",
    "\n",
    "El codigo de vehiculo no asocia un tipo de vehiculo único. <br>\n",
    "En dos formularios 1 puede ser automovil y en otro 1 puede ser volqueta.\n",
    "Usado para identificar la clase de vehiculo implicado en el accidente por Codigo\n"
   ]
  },
  {
   "cell_type": "code",
   "execution_count": 9,
   "metadata": {},
   "outputs": [],
   "source": [
    "VEHICULO[\"CODIGO_VEHICULO\"] = VEHICULO[\"CODIGO_VEHICULO\"].astype(\"Int64\").astype(\"str\")\n",
    "VEHICULO = VEHICULO[[\"CODIGO\", \"CLASE\", \"SERVICIO\"]]"
   ]
  },
  {
   "cell_type": "markdown",
   "metadata": {},
   "source": [
    "## Actor Vial\n",
    "Decido no usar: toda la informacion se encuentra en la union lesionado y muerto"
   ]
  },
  {
   "cell_type": "markdown",
   "metadata": {},
   "source": [
    "## Causa\n",
    "Se excluye los registros que no tienen causa del accidente <br>\n",
    "Se concatena las diferentes causas en un codigo, para que quede unico el codigo y llevarle la causa al vehiculo culpable"
   ]
  },
  {
   "cell_type": "code",
   "execution_count": 11,
   "metadata": {},
   "outputs": [],
   "source": [
    "CAUSA = CAUSA[~CAUSA[\"NOMBRE\"].isna()]\n",
    "CAUSA = CAUSA.groupby([\"CODIGO_AC_VH\"])['NOMBRE'].apply(lambda x: ', '.join(x)).reset_index()\n",
    "CAUSA.rename(columns={\"CODIGO_AC_VH\": \"CODIGO\"}, inplace=True)"
   ]
  },
  {
   "cell_type": "code",
   "execution_count": 15,
   "metadata": {},
   "outputs": [
    {
     "data": {
      "text/html": [
       "<div>\n",
       "<style scoped>\n",
       "    .dataframe tbody tr th:only-of-type {\n",
       "        vertical-align: middle;\n",
       "    }\n",
       "\n",
       "    .dataframe tbody tr th {\n",
       "        vertical-align: top;\n",
       "    }\n",
       "\n",
       "    .dataframe thead th {\n",
       "        text-align: right;\n",
       "    }\n",
       "</style>\n",
       "<table border=\"1\" class=\"dataframe\">\n",
       "  <thead>\n",
       "    <tr style=\"text-align: right;\">\n",
       "      <th></th>\n",
       "      <th>CODIGO</th>\n",
       "      <th>NOMBRE</th>\n",
       "    </tr>\n",
       "  </thead>\n",
       "  <tbody>\n",
       "    <tr>\n",
       "      <th>0</th>\n",
       "      <td>1000-1</td>\n",
       "      <td>NO MANTENER DISTANCIA DE SEGURIDAD</td>\n",
       "    </tr>\n",
       "    <tr>\n",
       "      <th>1</th>\n",
       "      <td>10000-1</td>\n",
       "      <td>OTRA</td>\n",
       "    </tr>\n",
       "    <tr>\n",
       "      <th>2</th>\n",
       "      <td>10001-1</td>\n",
       "      <td>NO MANTENER DISTANCIA DE SEGURIDAD</td>\n",
       "    </tr>\n",
       "    <tr>\n",
       "      <th>3</th>\n",
       "      <td>10001-2</td>\n",
       "      <td>OTRA</td>\n",
       "    </tr>\n",
       "    <tr>\n",
       "      <th>4</th>\n",
       "      <td>10002-1</td>\n",
       "      <td>OTRA</td>\n",
       "    </tr>\n",
       "  </tbody>\n",
       "</table>\n",
       "</div>"
      ],
      "text/plain": [
       "    CODIGO                              NOMBRE\n",
       "0   1000-1  NO MANTENER DISTANCIA DE SEGURIDAD\n",
       "1  10000-1                                OTRA\n",
       "2  10001-1  NO MANTENER DISTANCIA DE SEGURIDAD\n",
       "3  10001-2                                OTRA\n",
       "4  10002-1                                OTRA"
      ]
     },
     "execution_count": 15,
     "metadata": {},
     "output_type": "execute_result"
    }
   ],
   "source": [
    "CAUSA.head()"
   ]
  },
  {
   "cell_type": "markdown",
   "metadata": {},
   "source": [
    "## Via\n",
    "Se omite 4713 registros que no tienen Estado de la via"
   ]
  },
  {
   "cell_type": "markdown",
   "metadata": {},
   "source": [
    "## Construccion sabana"
   ]
  },
  {
   "cell_type": "code",
   "execution_count": 23,
   "metadata": {},
   "outputs": [
    {
     "name": "stdout",
     "output_type": "stream",
     "text": [
      "(193862, 16)\n",
      "(193862, 18)\n",
      "(193862, 20)\n",
      "(193862, 21)\n"
     ]
    }
   ],
   "source": [
    "print(ESTADO_ACCIDENTADO.shape)\n",
    "\n",
    "#Primer cruce\n",
    "DF_ALL = pd.merge(ESTADO_ACCIDENTADO, ACCIDENTE, on = \"FORMULARIO\", how=\"left\")\n",
    "DF_ALL[\"CODIGO\"] = DF_ALL[\"CODIGO_ACCIDENTE\"]+\"-\"+ DF_ALL[\"CODIGO_VEHICULO\"].astype(\"str\")\n",
    "print(DF_ALL.shape)\n",
    "\n",
    "#Segundo cruce\n",
    "DF_ALL = pd.merge(DF_ALL, VEHICULO, on = \"CODIGO\", how = \"left\")\n",
    "print(DF_ALL.shape)\n",
    "\n",
    "#Tercer cruce\n",
    "DF_ALL = pd.merge(DF_ALL, CAUSA, on = \"CODIGO\", how = \"left\")\n",
    "print(DF_ALL.shape)"
   ]
  }
 ],
 "metadata": {
  "kernelspec": {
   "display_name": "Python 3",
   "language": "python",
   "name": "python3"
  },
  "language_info": {
   "codemirror_mode": {
    "name": "ipython",
    "version": 3
   },
   "file_extension": ".py",
   "mimetype": "text/x-python",
   "name": "python",
   "nbconvert_exporter": "python",
   "pygments_lexer": "ipython3",
   "version": "3.12.0"
  }
 },
 "nbformat": 4,
 "nbformat_minor": 2
}
