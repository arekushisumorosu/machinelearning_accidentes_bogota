{
 "cells": [
  {
   "cell_type": "code",
   "execution_count": 2,
   "metadata": {},
   "outputs": [],
   "source": [
    "import os\n",
    "import sys\n",
    "\n",
    "sys.path.append(os.path.dirname(os.getcwd()))\n",
    "\n",
    "# ruta_monic = \"C:\\\\Users\\\\monic\\\\ml_accident_bgta\"\n",
    "# sys.path.append(ruta_monic)\n",
    "\n",
    "from src.config.setup import SetupConfig\n",
    "from src.data_workflow.create_tables.create_tables import retrieve_all_table_data\n",
    "\n",
    "\n",
    "\n",
    "import pandas as pd\n",
    "import numpy as np\n",
    "import os\n",
    "import seaborn as sns\n",
    "import matplotlib.pyplot as plt\n",
    "import folium"
   ]
  },
  {
   "cell_type": "markdown",
   "metadata": {},
   "source": [
    "**Para acceder a los datos lo podemos hacer usando la función:**\n",
    "\n",
    "`retrieve_all_table_data(<table_name>)`\n",
    "\n",
    "Parámetros:\n",
    "- table_name: nombre de la tabla\n",
    "\n",
    "Para acceder al nombre de la tabla, hacerlo a tráves de la clase SetupConfig:\n",
    "- `SetupConfig.TABLE_ACCIDENTE`\n",
    "- `SetupConfig.TABLE_ACTOR_VIAL`\n",
    "- `SetupConfig.TABLE_CAUSA`\n",
    "- `SetupConfig.TABLE_LESIONADO`\n",
    "- `SetupConfig.TABLE_MUERTO`\n",
    "- `SetupConfig.TABLE_VEHICULO`\n",
    "- `SetupConfig.TABLE_VIA`"
   ]
  },
  {
   "cell_type": "markdown",
   "metadata": {},
   "source": [
    "# Lectura base de datos"
   ]
  },
  {
   "cell_type": "code",
   "execution_count": 4,
   "metadata": {},
   "outputs": [
    {
     "name": "stdout",
     "output_type": "stream",
     "text": [
      "El dataset tiene 250182 filas y 16 columnas \n",
      "El dataset tiene 8106 filas y 18 columnas \n",
      "El dataset tiene 473883 filas y 18 columnas \n",
      "El dataset tiene 1443037 filas y 9 columnas \n",
      "El dataset tiene 1677376 filas y 14 columnas \n",
      "El dataset tiene 683654 filas y 10 columnas \n",
      "El dataset tiene 483952 filas y 19 columnas \n"
     ]
    }
   ],
   "source": [
    "LESIONADO = retrieve_all_table_data(SetupConfig.TABLE_LESIONADO)\n",
    "print(f'El dataset tiene {LESIONADO.shape[0]} filas y {LESIONADO.shape[1]} columnas ')\n",
    "\n",
    "MUERTO = retrieve_all_table_data(SetupConfig.TABLE_MUERTO)\n",
    "print(f'El dataset tiene {MUERTO.shape[0]} filas y {MUERTO.shape[1]} columnas ')\n",
    "\n",
    "ACCIDENTE = retrieve_all_table_data(SetupConfig.TABLE_ACCIDENTE)\n",
    "print(f'El dataset tiene {ACCIDENTE.shape[0]} filas y {ACCIDENTE.shape[1]} columnas ')\n",
    "\n",
    "VEHICULO = retrieve_all_table_data(SetupConfig.TABLE_VEHICULO)\n",
    "print(f'El dataset tiene {VEHICULO.shape[0]} filas y {VEHICULO.shape[1]} columnas ')\n",
    "\n",
    "ACTORVIAL = retrieve_all_table_data(SetupConfig.TABLE_ACTOR_VIAL)\n",
    "print(f'El dataset tiene {ACTORVIAL.shape[0]} filas y {ACTORVIAL.shape[1]} columnas ')\n",
    "\n",
    "CAUSA = retrieve_all_table_data(SetupConfig.TABLE_CAUSA)\n",
    "print(f'El dataset tiene {CAUSA.shape[0]} filas y {CAUSA.shape[1]} columnas ')\n",
    "\n",
    "VIA = retrieve_all_table_data(SetupConfig.TABLE_VIA)\n",
    "print(f'El dataset tiene {VIA.shape[0]} filas y {VIA.shape[1]} columnas ')\n"
   ]
  },
  {
   "cell_type": "markdown",
   "metadata": {},
   "source": [
    "# Descriptiva univariada"
   ]
  },
  {
   "cell_type": "markdown",
   "metadata": {},
   "source": [
    "## Accidente"
   ]
  },
  {
   "cell_type": "code",
   "execution_count": null,
   "metadata": {},
   "outputs": [],
   "source": [
    "tabla = ACCIDENTE.groupby(['GRAVEDAD'])['FORMULARIO'].count().reset_index()\n",
    "tabla"
   ]
  },
  {
   "cell_type": "code",
   "execution_count": null,
   "metadata": {},
   "outputs": [],
   "source": [
    "# Crear el gráfico de pastel\n",
    "plt.figure(figsize=(8, 6))\n",
    "sns.set_palette(\"dark\")\n",
    "sns.set(style=\"whitegrid\")\n",
    "plt.pie(tabla[\"FORMULARIO\"], labels=tabla[\"GRAVEDAD\"], autopct='%1.1f%%', startangle=140)\n",
    "plt.axis('equal')  # Equal aspect ratio ensures that pie is drawn as a circle.\n",
    "\n",
    "# Título del gráfico\n",
    "plt.title('Gravedad Siniestros')\n",
    "\n",
    "# Mostrar el gráfico\n",
    "plt.show()"
   ]
  },
  {
   "cell_type": "code",
   "execution_count": null,
   "metadata": {},
   "outputs": [],
   "source": [
    "tabla = ACCIDENTE.groupby(['CLASE_ACC'])['FORMULARIO'].count().reset_index()\n",
    "tabla"
   ]
  },
  {
   "cell_type": "code",
   "execution_count": null,
   "metadata": {},
   "outputs": [],
   "source": [
    "# Crear el gráfico de pastel\n",
    "plt.figure(figsize=(8, 6))\n",
    "sns.set_palette(\"Set2\")\n",
    "sns.set(style=\"whitegrid\")\n",
    "plt.pie(tabla[\"FORMULARIO\"], labels=tabla[\"CLASE_ACC\"], autopct='%1.1f%%', startangle=140, textprops={'fontsize': 9})\n",
    "plt.axis('equal')  # Equal aspect ratio ensures that pie is drawn as a circle.\n",
    "\n",
    "# Título del gráfico\n",
    "plt.title('Clase de Siniestro')\n",
    "\n",
    "# Mostrar el gráfico\n",
    "plt.show()"
   ]
  },
  {
   "cell_type": "code",
   "execution_count": null,
   "metadata": {},
   "outputs": [],
   "source": [
    "tabla = ACCIDENTE.groupby(['LATITUD', 'LONGITUD'])['FORMULARIO'].count().reset_index()\n",
    "tabla = tabla.sort_values(by=\"FORMULARIO\", ascending=False)\n",
    "tabla"
   ]
  },
  {
   "cell_type": "code",
   "execution_count": null,
   "metadata": {},
   "outputs": [],
   "source": [
    "import folium\n",
    "from folium.plugins import HeatMap\n",
    "import pandas as pd\n",
    "\n",
    "m = folium.Map(location=[tabla['LATITUD'].mean(), tabla['LONGITUD'].mean()], zoom_start=11)\n",
    "# Convertir las coordenadas a una lista de listas\n",
    "data = tabla[['LATITUD', 'LONGITUD', 'FORMULARIO']].values.tolist()\n",
    "\n",
    "gradient = {0.2: 'blue',  0.6: 'yellow',  1: 'red'}\n",
    "# Crear el mapa de calor\n",
    "HeatMap(data, radius=10, max_zoom=13, gradient=gradient).add_to(m)\n",
    "\n",
    "# Guardar el mapa\n",
    "m.save('mapa_accidentes_heatmap.html')"
   ]
  },
  {
   "cell_type": "code",
   "execution_count": null,
   "metadata": {},
   "outputs": [],
   "source": [
    "## NUMERO DE ACCIDENTES AÑO\n",
    "tabla = ACCIDENTE.groupby(['ANO_OCURRENCIA_ACC'])['FORMULARIO'].count().reset_index()\n",
    "plt.figure(figsize=(12, 6))\n",
    "sns.barplot(tabla, x=\"ANO_OCURRENCIA_ACC\", y=\"FORMULARIO\")\n",
    "plt.ylabel(\"Cantidad Siniestros\")"
   ]
  },
  {
   "cell_type": "code",
   "execution_count": null,
   "metadata": {},
   "outputs": [],
   "source": [
    "tabla = ACCIDENTE.groupby(['MES_OCURRENCIA_ACC'])['FORMULARIO'].count().reset_index()\n",
    "orden_meses = pd.DataFrame({\"MES\":[\"ENERO\", \"FEBRERO\", \"MARZO\", \"ABRIL\", \"MAYO\", \"JUNIO\", \"JULIO\", \"AGOSTO\",\"SEPTIEMBRE\", \"OCTUBRE\", \"NOVIEMBRE\", \"DICIEMBRE\"],\n",
    "                            \"MES_NUM\": [1, 2, 3, 4, 5, 6, 7, 8, 9, 10, 11, 12]})\n",
    "orden_meses\n",
    "# Ordenar el DataFrame por el valor numérico de los meses\n",
    "tabla = pd.merge(tabla, orden_meses, left_on=\"MES_OCURRENCIA_ACC\", right_on=\"MES\", how = \"left\")\n",
    "tabla = tabla.sort_values(by='MES_NUM').reset_index(drop=True)\n",
    "tabla\n",
    "\n"
   ]
  },
  {
   "cell_type": "code",
   "execution_count": null,
   "metadata": {},
   "outputs": [],
   "source": [
    "# Gráfico\n",
    "plt.figure(figsize=(13, 6))\n",
    "sns.barplot(tabla, x=\"MES_OCURRENCIA_ACC\", y=\"FORMULARIO\")\n",
    "plt.ylabel(\"Cantidad Siniestros\")"
   ]
  },
  {
   "cell_type": "code",
   "execution_count": null,
   "metadata": {},
   "outputs": [],
   "source": [
    "tabla = ACCIDENTE.groupby(['DIA_OCURRENCIA_ACC'])['FORMULARIO'].count().reset_index()\n",
    "orden_dias = pd.DataFrame({\"DIA\":[\"LUNES\", \"MARTES\", \"MIERCOLES\", \"JUEVES\", \"VIERNES\", \"SABADO\", \"DOMINGO\"],\n",
    "                            \"DIA_NUM\": [1, 2, 3, 4, 5, 6, 7]})\n",
    "orden_meses\n",
    "# Ordenar el DataFrame por el valor numérico de los meses\n",
    "tabla = pd.merge(tabla, orden_dias, left_on=\"DIA_OCURRENCIA_ACC\", right_on=\"DIA\", how = \"left\")\n",
    "tabla = tabla.sort_values(by='DIA_NUM').reset_index(drop=True)\n",
    "tabla"
   ]
  },
  {
   "cell_type": "code",
   "execution_count": null,
   "metadata": {},
   "outputs": [],
   "source": [
    "# Gráfico\n",
    "plt.figure(figsize=(13, 6))\n",
    "sns.barplot(tabla, x=\"DIA_OCURRENCIA_ACC\", y=\"FORMULARIO\")\n",
    "plt.ylabel(\"Cantidad Siniestros\")"
   ]
  },
  {
   "cell_type": "code",
   "execution_count": null,
   "metadata": {},
   "outputs": [],
   "source": [
    "tabla = ACCIDENTE.groupby(['HORA_OCURRENCIA_ACC'])['FORMULARIO'].count().reset_index()\n",
    "tabla['HORA_OCURRENCIA_ACC'] = pd.to_datetime(tabla['HORA_OCURRENCIA_ACC'])\n",
    "tabla_grouped = tabla.groupby(tabla['HORA_OCURRENCIA_ACC'].dt.strftime('%H:00:00'))['FORMULARIO'].sum().reset_index()\n",
    "tabla_grouped"
   ]
  },
  {
   "cell_type": "code",
   "execution_count": null,
   "metadata": {},
   "outputs": [],
   "source": [
    "plt.figure(figsize=(10, 6))\n",
    "plt.plot(tabla_grouped['HORA_OCURRENCIA_ACC'], tabla_grouped['FORMULARIO'])\n",
    "plt.title('Siniestros por hora')\n",
    "plt.xlabel('Hora de ocurrencia')\n",
    "plt.ylabel('Cantidad Siniestros')\n",
    "plt.grid(True)\n",
    "plt.xticks(rotation=45)\n",
    "plt.tight_layout()\n",
    "plt.show()"
   ]
  },
  {
   "cell_type": "markdown",
   "metadata": {},
   "source": [
    "## Actor Vial"
   ]
  },
  {
   "cell_type": "code",
   "execution_count": null,
   "metadata": {},
   "outputs": [],
   "source": [
    "ActorVial.head(5)"
   ]
  },
  {
   "cell_type": "code",
   "execution_count": null,
   "metadata": {},
   "outputs": [],
   "source": [
    "#ActorVial[ActorVial[\"Formulario\"] == \"A000239725\"]\n",
    "tabla = ActorVial.groupby(['FORMULARIO']).agg(\"size\").reset_index(name = \"conteo\")\n",
    "tabla = tabla.sort_values(by = \"conteo\", ascending=False)\n",
    "\n",
    "# Definir los intervalos\n",
    "bins = [0, 20, 40, 60, 80]\n",
    "\n",
    "# Crear los intervalos y contar la frecuencia\n",
    "conteo_intervalos = pd.cut(tabla['conteo'], bins=bins).value_counts().sort_index()\n",
    "conteo_intervalos"
   ]
  },
  {
   "cell_type": "code",
   "execution_count": null,
   "metadata": {},
   "outputs": [],
   "source": [
    "tabla.describe()"
   ]
  },
  {
   "cell_type": "code",
   "execution_count": null,
   "metadata": {},
   "outputs": [],
   "source": [
    "tabla = ActorVial.groupby(['CONDICION']).agg(\"size\").reset_index(name = \"conteo\")\n",
    "# Gráfico\n",
    "plt.figure(figsize=(9, 4))\n",
    "sns.barplot(tabla, x='CONDICION', y=\"conteo\")\n",
    "plt.ylabel(\"Cantidad Accidentados\")\n",
    "plt.ticklabel_format(style='plain', axis='y')\n",
    "\n",
    "for index, row in tabla.iterrows():\n",
    "    plt.text(index, row.conteo, f\"{row.conteo:,}\", color='black', ha=\"center\")\n",
    "    \n",
    "plt.show()"
   ]
  },
  {
   "cell_type": "code",
   "execution_count": null,
   "metadata": {},
   "outputs": [],
   "source": [
    "tabla = ActorVial.groupby(['Estado'.upper()]).agg(\"size\").reset_index(name = \"conteo\")\n",
    "print(tabla)\n",
    "# Gráfico\n",
    "plt.figure(figsize=(9, 4))\n",
    "sns.barplot(tabla, x=\"Estado\".upper(), y=\"conteo\")\n",
    "plt.ylabel(\"Cantidad Accidentados\")\n",
    "plt.ticklabel_format(style='plain', axis='y')\n",
    "\n",
    "for index, row in tabla.iterrows():\n",
    "    plt.text(index, row.conteo, f\"{row.conteo:,}\", color='black', ha=\"center\")\n",
    "    \n",
    "plt.show()"
   ]
  },
  {
   "cell_type": "code",
   "execution_count": null,
   "metadata": {},
   "outputs": [],
   "source": [
    "tabla = ActorVial.groupby(['MUERTE_POSTERIOR']).agg(\"size\").reset_index(name = \"conteo\")\n",
    "# Crear el gráfico de pastel\n",
    "plt.figure(figsize=(8, 6))\n",
    "sns.set_palette(\"dark\")\n",
    "sns.set(style=\"whitegrid\")\n",
    "plt.pie(tabla[\"conteo\"], labels=tabla[\"MUERTE_POSTERIOR\"], autopct='%1.1f%%', startangle=140)\n",
    "plt.axis('equal')  # Equal aspect ratio ensures that pie is drawn as a circle.\n",
    "\n",
    "# Título del gráfico\n",
    "plt.title('Muerte Posterior')\n",
    "\n",
    "# Mostrar el gráfico\n",
    "plt.show()"
   ]
  },
  {
   "cell_type": "code",
   "execution_count": null,
   "metadata": {},
   "outputs": [],
   "source": [
    "tabla = ActorVial.groupby(['GENERO']).agg(\"size\").reset_index(name = \"conteo\")\n",
    "print(tabla)\n",
    "# Gráfico\n",
    "plt.figure(figsize=(9, 4))\n",
    "sns.barplot(tabla, x=\"GENERO\", y=\"conteo\")\n",
    "plt.ylabel(\"Genero Accidentados\")\n",
    "plt.ticklabel_format(style='plain', axis='y')\n",
    "\n",
    "for index, row in tabla.iterrows():\n",
    "    plt.text(index, row.conteo, f\"{row.conteo:,}\", color='black', ha=\"center\")\n",
    "    \n",
    "plt.show()"
   ]
  },
  {
   "cell_type": "code",
   "execution_count": null,
   "metadata": {},
   "outputs": [],
   "source": [
    "ActorVial[\"EDAD\"].describe().round(0)"
   ]
  },
  {
   "cell_type": "code",
   "execution_count": null,
   "metadata": {},
   "outputs": [],
   "source": []
  },
  {
   "cell_type": "markdown",
   "metadata": {},
   "source": [
    "# Seleccion variables para cruce semana 6"
   ]
  },
  {
   "cell_type": "markdown",
   "metadata": {},
   "source": [
    "## Union Lesionado y Muerto"
   ]
  },
  {
   "cell_type": "markdown",
   "metadata": {},
   "source": [
    "Se une la tabla lesionado y muerto, identificando con variable indicadora, si fue lesionado o muerto <br>\n",
    "Se omite 37 registros que no tienen \"CLASE_ACC\" <br>\n",
    "Se omite 1 registro que no tiene \"CONDICION\" <br>\n",
    "Se omite 64399 registros que no tiene codigo vehiculo <br>\t\t\n",
    "Cant data inicial: 258288, Cant data final = 193862. Prueba inicial 75% de los datos iniciales. <br>\n"
   ]
  },
  {
   "cell_type": "code",
   "execution_count": 5,
   "metadata": {},
   "outputs": [
    {
     "name": "stdout",
     "output_type": "stream",
     "text": [
      "(258288, 16) \n",
      " NA CLASE_ACC 37 \n",
      " NA CONDICION 1 \n",
      " NA CODIGO_VEHICULO 64399\n",
      "(193862, 16)\n"
     ]
    }
   ],
   "source": [
    "LESIONADO = LESIONADO.drop([\"OBJECTID\"], axis=1)\n",
    "LESIONADO[\"ESTADO_ACCIDENTADO\"] = \"LESIONADO\"\n",
    "\n",
    "MUERTO = MUERTO.drop([\"OBJECTID\", \"MUERTE_POSTERIOR\", \"FECHA_POSTERIOR_MUERTE\"], axis=1)\n",
    "MUERTO[\"ESTADO_ACCIDENTADO\"] = \"MUERTO\"\n",
    "\n",
    "ESTADO_ACCIDENTADO = pd.concat([LESIONADO, MUERTO], axis=0, ignore_index=True).sort_values(by=\"FORMULARIO\")\n",
    "print(ESTADO_ACCIDENTADO.shape, \n",
    "      \"\\n NA CLASE_ACC\", sum(ESTADO_ACCIDENTADO[\"CLASE_ACC\"].isna()),\n",
    "      \"\\n NA CONDICION\", sum(ESTADO_ACCIDENTADO[\"CONDICION\"].isna()), \n",
    "      \"\\n NA CODIGO_VEHICULO\", sum(ESTADO_ACCIDENTADO[\"CODIGO_VEHICULO\"].isna())\n",
    "      )\n",
    "ESTADO_ACCIDENTADO = ESTADO_ACCIDENTADO[~ESTADO_ACCIDENTADO[\"CLASE_ACC\"].isna()]\n",
    "ESTADO_ACCIDENTADO = ESTADO_ACCIDENTADO[~ESTADO_ACCIDENTADO[\"CONDICION\"].isna()]\n",
    "ESTADO_ACCIDENTADO = ESTADO_ACCIDENTADO[~ESTADO_ACCIDENTADO[\"CODIGO_VEHICULO\"].isna()]\n",
    "ESTADO_ACCIDENTADO[\"CODIGO_VEHICULO\"] = ESTADO_ACCIDENTADO[\"CODIGO_VEHICULO\"].astype(\"Int64\")\n",
    "\n",
    "print(ESTADO_ACCIDENTADO.shape)"
   ]
  },
  {
   "cell_type": "code",
   "execution_count": null,
   "metadata": {},
   "outputs": [],
   "source": []
  },
  {
   "cell_type": "markdown",
   "metadata": {},
   "source": [
    "## Accidente\n",
    "Usado para llevar a la tabla anterior (union lesionado muerto) el codigo del accidente para construir el codigo"
   ]
  },
  {
   "cell_type": "code",
   "execution_count": 6,
   "metadata": {},
   "outputs": [],
   "source": [
    "ACCIDENTE['CODIGO_ACCIDENTE'] = ACCIDENTE['CODIGO_ACCIDENTE'].astype(str)\n",
    "ACCIDENTE = ACCIDENTE[[\"FORMULARIO\", \"CODIGO_ACCIDENTE\"]]"
   ]
  },
  {
   "cell_type": "markdown",
   "metadata": {},
   "source": []
  },
  {
   "cell_type": "markdown",
   "metadata": {},
   "source": [
    "## Vehiculo\n",
    "\n",
    "El codigo de vehiculo no asocia un tipo de vehiculo único. <br>\n",
    "En dos formularios 1 puede ser automovil y en otro 1 puede ser volqueta.\n",
    "Usado para identificar la clase de vehiculo implicado en el accidente por Codigo\n"
   ]
  },
  {
   "cell_type": "code",
   "execution_count": 9,
   "metadata": {},
   "outputs": [],
   "source": [
    "VEHICULO[\"CODIGO_VEHICULO\"] = VEHICULO[\"CODIGO_VEHICULO\"].astype(\"Int64\").astype(\"str\")\n",
    "VEHICULO = VEHICULO[[\"CODIGO\", \"CLASE\", \"SERVICIO\"]]"
   ]
  },
  {
   "cell_type": "markdown",
   "metadata": {},
   "source": [
    "## Actor Vial\n",
    "Decido no usar: toda la informacion se encuentra en la union lesionado y muerto"
   ]
  },
  {
   "cell_type": "markdown",
   "metadata": {},
   "source": [
    "## Causa\n",
    "Se excluye los registros que no tienen causa del accidente <br>\n",
    "Se concatena las diferentes causas en un codigo, para que quede unico el codigo y llevarle la causa al vehiculo culpable"
   ]
  },
  {
   "cell_type": "code",
   "execution_count": 11,
   "metadata": {},
   "outputs": [],
   "source": [
    "CAUSA = CAUSA[~CAUSA[\"NOMBRE\"].isna()]\n",
    "CAUSA = CAUSA.groupby([\"CODIGO_AC_VH\"])['NOMBRE'].apply(lambda x: ', '.join(x)).reset_index()\n",
    "CAUSA.rename(columns={\"CODIGO_AC_VH\": \"CODIGO\"}, inplace=True)"
   ]
  },
  {
   "cell_type": "code",
   "execution_count": 15,
   "metadata": {},
   "outputs": [
    {
     "data": {
      "text/html": [
       "<div>\n",
       "<style scoped>\n",
       "    .dataframe tbody tr th:only-of-type {\n",
       "        vertical-align: middle;\n",
       "    }\n",
       "\n",
       "    .dataframe tbody tr th {\n",
       "        vertical-align: top;\n",
       "    }\n",
       "\n",
       "    .dataframe thead th {\n",
       "        text-align: right;\n",
       "    }\n",
       "</style>\n",
       "<table border=\"1\" class=\"dataframe\">\n",
       "  <thead>\n",
       "    <tr style=\"text-align: right;\">\n",
       "      <th></th>\n",
       "      <th>CODIGO</th>\n",
       "      <th>NOMBRE</th>\n",
       "    </tr>\n",
       "  </thead>\n",
       "  <tbody>\n",
       "    <tr>\n",
       "      <th>0</th>\n",
       "      <td>1000-1</td>\n",
       "      <td>NO MANTENER DISTANCIA DE SEGURIDAD</td>\n",
       "    </tr>\n",
       "    <tr>\n",
       "      <th>1</th>\n",
       "      <td>10000-1</td>\n",
       "      <td>OTRA</td>\n",
       "    </tr>\n",
       "    <tr>\n",
       "      <th>2</th>\n",
       "      <td>10001-1</td>\n",
       "      <td>NO MANTENER DISTANCIA DE SEGURIDAD</td>\n",
       "    </tr>\n",
       "    <tr>\n",
       "      <th>3</th>\n",
       "      <td>10001-2</td>\n",
       "      <td>OTRA</td>\n",
       "    </tr>\n",
       "    <tr>\n",
       "      <th>4</th>\n",
       "      <td>10002-1</td>\n",
       "      <td>OTRA</td>\n",
       "    </tr>\n",
       "  </tbody>\n",
       "</table>\n",
       "</div>"
      ],
      "text/plain": [
       "    CODIGO                              NOMBRE\n",
       "0   1000-1  NO MANTENER DISTANCIA DE SEGURIDAD\n",
       "1  10000-1                                OTRA\n",
       "2  10001-1  NO MANTENER DISTANCIA DE SEGURIDAD\n",
       "3  10001-2                                OTRA\n",
       "4  10002-1                                OTRA"
      ]
     },
     "execution_count": 15,
     "metadata": {},
     "output_type": "execute_result"
    }
   ],
   "source": [
    "CAUSA.head()"
   ]
  },
  {
   "cell_type": "markdown",
   "metadata": {},
   "source": [
    "## Via\n",
    "Se omitn las variables en NA <br>\n",
    "Se concatenen las posibles niveles de cada variable, para llevarlo unico "
   ]
  },
  {
   "cell_type": "code",
   "execution_count": 25,
   "metadata": {},
   "outputs": [
    {
     "data": {
      "text/html": [
       "<div>\n",
       "<style scoped>\n",
       "    .dataframe tbody tr th:only-of-type {\n",
       "        vertical-align: middle;\n",
       "    }\n",
       "\n",
       "    .dataframe tbody tr th {\n",
       "        vertical-align: top;\n",
       "    }\n",
       "\n",
       "    .dataframe thead th {\n",
       "        text-align: right;\n",
       "    }\n",
       "</style>\n",
       "<table border=\"1\" class=\"dataframe\">\n",
       "  <thead>\n",
       "    <tr style=\"text-align: right;\">\n",
       "      <th></th>\n",
       "      <th>OBJECTID</th>\n",
       "      <th>FORMULARIO</th>\n",
       "      <th>CODIGO_ACCIDENTE</th>\n",
       "      <th>CODIGO_VIA</th>\n",
       "      <th>GEOMETRICA_A</th>\n",
       "      <th>GEOMETRICA_B</th>\n",
       "      <th>GEOMETRICA_C</th>\n",
       "      <th>UTILIZACION</th>\n",
       "      <th>CALZADAS</th>\n",
       "      <th>CARRILES</th>\n",
       "      <th>MATERIAL</th>\n",
       "      <th>ESTADO</th>\n",
       "      <th>CONDICIONES</th>\n",
       "      <th>ILUMINACION_A</th>\n",
       "      <th>ILUMINACION_B</th>\n",
       "      <th>AGENTE_TRANSITO</th>\n",
       "      <th>SEMAFORO</th>\n",
       "      <th>VISUAL</th>\n",
       "      <th>CODIGO</th>\n",
       "    </tr>\n",
       "  </thead>\n",
       "  <tbody>\n",
       "    <tr>\n",
       "      <th>0</th>\n",
       "      <td>526</td>\n",
       "      <td>A000032986</td>\n",
       "      <td>511950</td>\n",
       "      <td>1</td>\n",
       "      <td>RECTA</td>\n",
       "      <td>PLANO</td>\n",
       "      <td>CON ANDEN</td>\n",
       "      <td>DOBLE SENTIDO</td>\n",
       "      <td>UNA</td>\n",
       "      <td>UNO</td>\n",
       "      <td>CONCRETO</td>\n",
       "      <td>BUENO</td>\n",
       "      <td>SECA</td>\n",
       "      <td>SIN</td>\n",
       "      <td>None</td>\n",
       "      <td>NO</td>\n",
       "      <td>None</td>\n",
       "      <td>None</td>\n",
       "      <td>526-511950-1</td>\n",
       "    </tr>\n",
       "    <tr>\n",
       "      <th>1</th>\n",
       "      <td>527</td>\n",
       "      <td>A000032708</td>\n",
       "      <td>511947</td>\n",
       "      <td>1</td>\n",
       "      <td>RECTA</td>\n",
       "      <td>PLANO</td>\n",
       "      <td>CON ANDEN</td>\n",
       "      <td>DOBLE SENTIDO</td>\n",
       "      <td>TRES O MAS</td>\n",
       "      <td>DOS</td>\n",
       "      <td>ASFALTO</td>\n",
       "      <td>BUENO</td>\n",
       "      <td>SECA</td>\n",
       "      <td>SIN</td>\n",
       "      <td>None</td>\n",
       "      <td>NO</td>\n",
       "      <td>None</td>\n",
       "      <td>None</td>\n",
       "      <td>527-511947-1</td>\n",
       "    </tr>\n",
       "    <tr>\n",
       "      <th>2</th>\n",
       "      <td>528</td>\n",
       "      <td>A000032708</td>\n",
       "      <td>511947</td>\n",
       "      <td>2</td>\n",
       "      <td>RECTA</td>\n",
       "      <td>PLANO</td>\n",
       "      <td>CON BERMAS</td>\n",
       "      <td>UN SENTIDO</td>\n",
       "      <td>UNA</td>\n",
       "      <td>UNO</td>\n",
       "      <td>ASFALTO</td>\n",
       "      <td>BUENO</td>\n",
       "      <td>SECA</td>\n",
       "      <td>CON</td>\n",
       "      <td>BUENA</td>\n",
       "      <td>NO</td>\n",
       "      <td>None</td>\n",
       "      <td>None</td>\n",
       "      <td>528-511947-2</td>\n",
       "    </tr>\n",
       "    <tr>\n",
       "      <th>3</th>\n",
       "      <td>530</td>\n",
       "      <td>A000032685</td>\n",
       "      <td>511951</td>\n",
       "      <td>1</td>\n",
       "      <td>RECTA</td>\n",
       "      <td>PLANO</td>\n",
       "      <td>CON ANDEN</td>\n",
       "      <td>DOBLE SENTIDO</td>\n",
       "      <td>UNA</td>\n",
       "      <td>DOS</td>\n",
       "      <td>ASFALTO</td>\n",
       "      <td>BUENO</td>\n",
       "      <td>SECA</td>\n",
       "      <td>CON</td>\n",
       "      <td>BUENA</td>\n",
       "      <td>NO</td>\n",
       "      <td>None</td>\n",
       "      <td>None</td>\n",
       "      <td>530-511951-1</td>\n",
       "    </tr>\n",
       "    <tr>\n",
       "      <th>4</th>\n",
       "      <td>533</td>\n",
       "      <td>A000033275</td>\n",
       "      <td>511953</td>\n",
       "      <td>1</td>\n",
       "      <td>RECTA</td>\n",
       "      <td>PLANO</td>\n",
       "      <td>CON ANDEN</td>\n",
       "      <td>DOBLE SENTIDO</td>\n",
       "      <td>DOS</td>\n",
       "      <td>DOS</td>\n",
       "      <td>ASFALTO</td>\n",
       "      <td>BUENO</td>\n",
       "      <td>SECA</td>\n",
       "      <td>CON</td>\n",
       "      <td>BUENA</td>\n",
       "      <td>NO</td>\n",
       "      <td>None</td>\n",
       "      <td>None</td>\n",
       "      <td>533-511953-1</td>\n",
       "    </tr>\n",
       "  </tbody>\n",
       "</table>\n",
       "</div>"
      ],
      "text/plain": [
       "   OBJECTID  FORMULARIO  CODIGO_ACCIDENTE  CODIGO_VIA GEOMETRICA_A  \\\n",
       "0       526  A000032986            511950           1        RECTA   \n",
       "1       527  A000032708            511947           1        RECTA   \n",
       "2       528  A000032708            511947           2        RECTA   \n",
       "3       530  A000032685            511951           1        RECTA   \n",
       "4       533  A000033275            511953           1        RECTA   \n",
       "\n",
       "  GEOMETRICA_B GEOMETRICA_C    UTILIZACION    CALZADAS CARRILES  MATERIAL  \\\n",
       "0        PLANO    CON ANDEN  DOBLE SENTIDO         UNA      UNO  CONCRETO   \n",
       "1        PLANO    CON ANDEN  DOBLE SENTIDO  TRES O MAS      DOS   ASFALTO   \n",
       "2        PLANO   CON BERMAS     UN SENTIDO         UNA      UNO   ASFALTO   \n",
       "3        PLANO    CON ANDEN  DOBLE SENTIDO         UNA      DOS   ASFALTO   \n",
       "4        PLANO    CON ANDEN  DOBLE SENTIDO         DOS      DOS   ASFALTO   \n",
       "\n",
       "  ESTADO CONDICIONES ILUMINACION_A ILUMINACION_B AGENTE_TRANSITO SEMAFORO  \\\n",
       "0  BUENO        SECA           SIN          None              NO     None   \n",
       "1  BUENO        SECA           SIN          None              NO     None   \n",
       "2  BUENO        SECA           CON         BUENA              NO     None   \n",
       "3  BUENO        SECA           CON         BUENA              NO     None   \n",
       "4  BUENO        SECA           CON         BUENA              NO     None   \n",
       "\n",
       "  VISUAL        CODIGO  \n",
       "0   None  526-511950-1  \n",
       "1   None  527-511947-1  \n",
       "2   None  528-511947-2  \n",
       "3   None  530-511951-1  \n",
       "4   None  533-511953-1  "
      ]
     },
     "execution_count": 25,
     "metadata": {},
     "output_type": "execute_result"
    }
   ],
   "source": [
    "VIA.head()"
   ]
  },
  {
   "cell_type": "code",
   "execution_count": 26,
   "metadata": {},
   "outputs": [],
   "source": [
    "VIA = VIA.groupby([\"FORMULARIO\"]).agg({\n",
    "    \"MATERIAL\": lambda x: ', '.join(x.dropna()),\n",
    "    \"CONDICIONES\": lambda x: ', '.join(x.dropna()),\n",
    "    'SEMAFORO': lambda x: ', '.join(x.dropna()),\n",
    "    'ESTADO': lambda x: ', '.join(x.dropna()),  # Concatenar valores de \"Estado\" y eliminar NaN\n",
    "    'UTILIZACION': lambda x: ', '.join(x.dropna())  # Concatenar valores de \"Utilizacion\" y eliminar NaN\n",
    "}).reset_index()"
   ]
  },
  {
   "cell_type": "markdown",
   "metadata": {},
   "source": [
    "## Construccion sabana"
   ]
  },
  {
   "cell_type": "code",
   "execution_count": 27,
   "metadata": {},
   "outputs": [
    {
     "name": "stdout",
     "output_type": "stream",
     "text": [
      "(193862, 16)\n",
      "(193862, 18)\n",
      "(193862, 20)\n",
      "(193862, 21)\n",
      "(193862, 26)\n"
     ]
    }
   ],
   "source": [
    "print(ESTADO_ACCIDENTADO.shape)\n",
    "\n",
    "#Primer cruce\n",
    "DF_ALL = pd.merge(ESTADO_ACCIDENTADO, ACCIDENTE, on = \"FORMULARIO\", how=\"left\")\n",
    "DF_ALL[\"CODIGO\"] = DF_ALL[\"CODIGO_ACCIDENTE\"]+\"-\"+ DF_ALL[\"CODIGO_VEHICULO\"].astype(\"str\")\n",
    "print(DF_ALL.shape)\n",
    "\n",
    "#Segundo cruce\n",
    "DF_ALL = pd.merge(DF_ALL, VEHICULO, on = \"CODIGO\", how = \"left\")\n",
    "print(DF_ALL.shape)\n",
    "\n",
    "#Tercer cruce\n",
    "DF_ALL = pd.merge(DF_ALL, CAUSA, on = \"CODIGO\", how = \"left\")\n",
    "print(DF_ALL.shape)\n",
    "\n",
    "#Cuarto cruce\n",
    "DF_ALL = pd.merge(DF_ALL, VIA, on = \"FORMULARIO\", how = \"left\")\n",
    "print(DF_ALL.shape)"
   ]
  },
  {
   "cell_type": "code",
   "execution_count": 28,
   "metadata": {},
   "outputs": [
    {
     "data": {
      "text/html": [
       "<div>\n",
       "<style scoped>\n",
       "    .dataframe tbody tr th:only-of-type {\n",
       "        vertical-align: middle;\n",
       "    }\n",
       "\n",
       "    .dataframe tbody tr th {\n",
       "        vertical-align: top;\n",
       "    }\n",
       "\n",
       "    .dataframe thead th {\n",
       "        text-align: right;\n",
       "    }\n",
       "</style>\n",
       "<table border=\"1\" class=\"dataframe\">\n",
       "  <thead>\n",
       "    <tr style=\"text-align: right;\">\n",
       "      <th></th>\n",
       "      <th>CODIGO_ACCIDENTADO</th>\n",
       "      <th>FORMULARIO</th>\n",
       "      <th>FECHA_OCURRENCIA_ACC</th>\n",
       "      <th>HORA_OCURRENCIA_ACC</th>\n",
       "      <th>ANO_OCURRENCIA_ACC</th>\n",
       "      <th>MES_OCURRENCIA_ACC</th>\n",
       "      <th>DIA_OCURRENCIA_ACC</th>\n",
       "      <th>FECHA_HORA_ACC</th>\n",
       "      <th>DIRECCION</th>\n",
       "      <th>CLASE_ACC</th>\n",
       "      <th>...</th>\n",
       "      <th>CODIGO_ACCIDENTE</th>\n",
       "      <th>CODIGO</th>\n",
       "      <th>CLASE</th>\n",
       "      <th>SERVICIO</th>\n",
       "      <th>NOMBRE</th>\n",
       "      <th>MATERIAL</th>\n",
       "      <th>CONDICIONES</th>\n",
       "      <th>SEMAFORO</th>\n",
       "      <th>ESTADO</th>\n",
       "      <th>UTILIZACION</th>\n",
       "    </tr>\n",
       "  </thead>\n",
       "  <tbody>\n",
       "    <tr>\n",
       "      <th>0</th>\n",
       "      <td>319562</td>\n",
       "      <td>20127000</td>\n",
       "      <td>2002-05-16 19:00:00</td>\n",
       "      <td>13:30:00</td>\n",
       "      <td>2002</td>\n",
       "      <td>MAYO</td>\n",
       "      <td>VIERNES</td>\n",
       "      <td>2002-05-17 08:30:00</td>\n",
       "      <td>KR 24-33  S 57</td>\n",
       "      <td>CAIDA DE OCUPANTE</td>\n",
       "      <td>...</td>\n",
       "      <td>107782</td>\n",
       "      <td>107782-1</td>\n",
       "      <td>MICROBUS</td>\n",
       "      <td>PUBLICO</td>\n",
       "      <td>NO UTILIZAR - IMPERICIA EN EL MANEJO</td>\n",
       "      <td>ASFALTO</td>\n",
       "      <td>SECA</td>\n",
       "      <td></td>\n",
       "      <td>BUENO</td>\n",
       "      <td>UN SENTIDO</td>\n",
       "    </tr>\n",
       "    <tr>\n",
       "      <th>1</th>\n",
       "      <td>507170</td>\n",
       "      <td>20280100</td>\n",
       "      <td>2002-05-26 19:00:00</td>\n",
       "      <td>12:00:00</td>\n",
       "      <td>2002</td>\n",
       "      <td>MAYO</td>\n",
       "      <td>LUNES</td>\n",
       "      <td>2002-05-27 07:00:00</td>\n",
       "      <td>KR 10-16 37</td>\n",
       "      <td>OTRO</td>\n",
       "      <td>...</td>\n",
       "      <td>109280</td>\n",
       "      <td>109280-1</td>\n",
       "      <td>AUTOMOVIL</td>\n",
       "      <td>PARTICULAR</td>\n",
       "      <td>ANTERIOR - DISTRAERSE</td>\n",
       "      <td>ASFALTO</td>\n",
       "      <td>SECA</td>\n",
       "      <td></td>\n",
       "      <td>BUENO</td>\n",
       "      <td>UN SENTIDO</td>\n",
       "    </tr>\n",
       "    <tr>\n",
       "      <th>2</th>\n",
       "      <td>320400</td>\n",
       "      <td>20391200</td>\n",
       "      <td>2002-06-05 19:00:00</td>\n",
       "      <td>22:30:00</td>\n",
       "      <td>2002</td>\n",
       "      <td>JUNIO</td>\n",
       "      <td>JUEVES</td>\n",
       "      <td>2002-06-06 17:30:00</td>\n",
       "      <td>KR 7-36 45</td>\n",
       "      <td>CHOQUE</td>\n",
       "      <td>...</td>\n",
       "      <td>110366</td>\n",
       "      <td>110366-2</td>\n",
       "      <td>AUTOMOVIL</td>\n",
       "      <td>PUBLICO</td>\n",
       "      <td>ANTERIOR - DISTRAERSE</td>\n",
       "      <td>ASFALTO</td>\n",
       "      <td>SECA</td>\n",
       "      <td></td>\n",
       "      <td>BUENO</td>\n",
       "      <td>DOBLE SENTIDO</td>\n",
       "    </tr>\n",
       "    <tr>\n",
       "      <th>3</th>\n",
       "      <td>512498</td>\n",
       "      <td>20579500</td>\n",
       "      <td>2002-07-23 19:00:00</td>\n",
       "      <td>12:30:00</td>\n",
       "      <td>2002</td>\n",
       "      <td>JULIO</td>\n",
       "      <td>MIERCOLES</td>\n",
       "      <td>2002-07-24 07:30:00</td>\n",
       "      <td>TR 93-51 98</td>\n",
       "      <td>CHOQUE</td>\n",
       "      <td>...</td>\n",
       "      <td>112202</td>\n",
       "      <td>112202-2</td>\n",
       "      <td>MOTOCICLETA</td>\n",
       "      <td>PARTICULAR</td>\n",
       "      <td>ADELANTAR CERRANDO</td>\n",
       "      <td>ASFALTO</td>\n",
       "      <td>SECA</td>\n",
       "      <td></td>\n",
       "      <td>CON HUECOS</td>\n",
       "      <td>DOBLE SENTIDO</td>\n",
       "    </tr>\n",
       "    <tr>\n",
       "      <th>4</th>\n",
       "      <td>515140</td>\n",
       "      <td>20729600</td>\n",
       "      <td>2002-06-26 19:00:00</td>\n",
       "      <td>11:20:00</td>\n",
       "      <td>2002</td>\n",
       "      <td>JUNIO</td>\n",
       "      <td>JUEVES</td>\n",
       "      <td>2002-06-27 06:20:00</td>\n",
       "      <td>KR 27-9  S 32</td>\n",
       "      <td>CHOQUE</td>\n",
       "      <td>...</td>\n",
       "      <td>113656</td>\n",
       "      <td>113656-2</td>\n",
       "      <td>MOTOCICLETA</td>\n",
       "      <td>PARTICULAR</td>\n",
       "      <td>NO UTILIZAR - IMPERICIA EN EL MANEJO</td>\n",
       "      <td>ASFALTO, ASFALTO</td>\n",
       "      <td>SECA, SECA</td>\n",
       "      <td></td>\n",
       "      <td>BUENO, BUENO</td>\n",
       "      <td>UN SENTIDO, UN SENTIDO</td>\n",
       "    </tr>\n",
       "  </tbody>\n",
       "</table>\n",
       "<p>5 rows × 26 columns</p>\n",
       "</div>"
      ],
      "text/plain": [
       "  CODIGO_ACCIDENTADO FORMULARIO FECHA_OCURRENCIA_ACC HORA_OCURRENCIA_ACC  \\\n",
       "0             319562   20127000  2002-05-16 19:00:00            13:30:00   \n",
       "1             507170   20280100  2002-05-26 19:00:00            12:00:00   \n",
       "2             320400   20391200  2002-06-05 19:00:00            22:30:00   \n",
       "3             512498   20579500  2002-07-23 19:00:00            12:30:00   \n",
       "4             515140   20729600  2002-06-26 19:00:00            11:20:00   \n",
       "\n",
       "   ANO_OCURRENCIA_ACC MES_OCURRENCIA_ACC DIA_OCURRENCIA_ACC  \\\n",
       "0                2002               MAYO            VIERNES   \n",
       "1                2002               MAYO              LUNES   \n",
       "2                2002              JUNIO             JUEVES   \n",
       "3                2002              JULIO          MIERCOLES   \n",
       "4                2002              JUNIO             JUEVES   \n",
       "\n",
       "       FECHA_HORA_ACC       DIRECCION          CLASE_ACC  ...  \\\n",
       "0 2002-05-17 08:30:00  KR 24-33  S 57  CAIDA DE OCUPANTE  ...   \n",
       "1 2002-05-27 07:00:00     KR 10-16 37               OTRO  ...   \n",
       "2 2002-06-06 17:30:00      KR 7-36 45             CHOQUE  ...   \n",
       "3 2002-07-24 07:30:00     TR 93-51 98             CHOQUE  ...   \n",
       "4 2002-06-27 06:20:00   KR 27-9  S 32             CHOQUE  ...   \n",
       "\n",
       "  CODIGO_ACCIDENTE    CODIGO        CLASE    SERVICIO  \\\n",
       "0           107782  107782-1     MICROBUS     PUBLICO   \n",
       "1           109280  109280-1    AUTOMOVIL  PARTICULAR   \n",
       "2           110366  110366-2    AUTOMOVIL     PUBLICO   \n",
       "3           112202  112202-2  MOTOCICLETA  PARTICULAR   \n",
       "4           113656  113656-2  MOTOCICLETA  PARTICULAR   \n",
       "\n",
       "                                 NOMBRE          MATERIAL CONDICIONES  \\\n",
       "0  NO UTILIZAR - IMPERICIA EN EL MANEJO           ASFALTO        SECA   \n",
       "1                 ANTERIOR - DISTRAERSE           ASFALTO        SECA   \n",
       "2                 ANTERIOR - DISTRAERSE           ASFALTO        SECA   \n",
       "3                    ADELANTAR CERRANDO           ASFALTO        SECA   \n",
       "4  NO UTILIZAR - IMPERICIA EN EL MANEJO  ASFALTO, ASFALTO  SECA, SECA   \n",
       "\n",
       "  SEMAFORO        ESTADO             UTILIZACION  \n",
       "0                  BUENO              UN SENTIDO  \n",
       "1                  BUENO              UN SENTIDO  \n",
       "2                  BUENO           DOBLE SENTIDO  \n",
       "3             CON HUECOS           DOBLE SENTIDO  \n",
       "4           BUENO, BUENO  UN SENTIDO, UN SENTIDO  \n",
       "\n",
       "[5 rows x 26 columns]"
      ]
     },
     "execution_count": 28,
     "metadata": {},
     "output_type": "execute_result"
    }
   ],
   "source": [
    "DF_ALL.head()"
   ]
  }
 ],
 "metadata": {
  "kernelspec": {
   "display_name": "Python 3",
   "language": "python",
   "name": "python3"
  },
  "language_info": {
   "codemirror_mode": {
    "name": "ipython",
    "version": 3
   },
   "file_extension": ".py",
   "mimetype": "text/x-python",
   "name": "python",
   "nbconvert_exporter": "python",
   "pygments_lexer": "ipython3",
   "version": "3.12.0"
  }
 },
 "nbformat": 4,
 "nbformat_minor": 2
}
