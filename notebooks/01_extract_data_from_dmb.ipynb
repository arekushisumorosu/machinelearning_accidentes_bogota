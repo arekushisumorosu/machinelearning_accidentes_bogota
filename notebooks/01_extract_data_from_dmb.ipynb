{
 "cells": [
  {
   "cell_type": "code",
   "execution_count": 17,
   "metadata": {},
   "outputs": [],
   "source": [
    "import requests\n",
    "import os\n",
    "import sys\n",
    "\n",
    "sys.path.append(os.path.dirname(os.getcwd()))\n",
    "\n",
    "# Env Variables\n",
    "from src.config.setup import SetupConfig\n",
    "from src.data_workflow.etl.extract import extract_data_raw_service, fetch_total_nro_rows_of_the_layer"
   ]
  },
  {
   "cell_type": "code",
   "execution_count": 70,
   "metadata": {},
   "outputs": [],
   "source": [
    "end_point_dmb = 'https://services2.arcgis.com/NEwhEo9GGSHXcRXV/arcgis/rest/services/AccidentalidadAnalisis/FeatureServer/0/query?where=1%3D1&outFields=*&outSR=4326&resultOffset=0&resultRecordCount=1000&f=json'\n",
    "data_dmb_accidente = requests.get(end_point_dmb) # El límite de registros por petición es de 2000\n",
    "\n",
    "response_json = data_dmb_accidente.json()\n",
    "len(response_json['features'])"
   ]
  },
  {
   "cell_type": "code",
   "execution_count": null,
   "metadata": {},
   "outputs": [],
   "source": [
    "\"\"\"\n",
    "Layers:\n",
    "- Accidente: 0\n",
    "- Lesionado: 1\n",
    "- Muerto: 2\n",
    "- Actor Vial: 3\n",
    "- Causa: 4\n",
    "- Vehiculo: 5\n",
    "- Via: 6\n",
    "\"\"\""
   ]
  },
  {
   "cell_type": "code",
   "execution_count": 19,
   "metadata": {},
   "outputs": [
    {
     "data": {
      "text/plain": [
       "6"
      ]
     },
     "execution_count": 19,
     "metadata": {},
     "output_type": "execute_result"
    }
   ],
   "source": []
  },
  {
   "cell_type": "code",
   "execution_count": 20,
   "metadata": {},
   "outputs": [
    {
     "name": "stdout",
     "output_type": "stream",
     "text": [
      "Nro de registros layer 0: 473883\n",
      "Nro de registros layer 1: 250182\n",
      "Nro de registros layer 2: 8106\n",
      "Nro de registros layer 3: 1679376\n",
      "Nro de registros layer 4: 683654\n",
      "Nro de registros layer 5: 1443037\n",
      "Nro de registros layer 6: 483952\n"
     ]
    }
   ],
   "source": [
    "for i in range(int(SetupConfig.NRO_LAYERS) + 1):\n",
    "    print(f'Nro de registros layer {i}: {fetch_total_nro_rows_of_the_layer(i)}') # Indexada desde 0"
   ]
  },
  {
   "cell_type": "markdown",
   "metadata": {},
   "source": [
    "Extract data: Test"
   ]
  },
  {
   "cell_type": "code",
   "execution_count": 11,
   "metadata": {},
   "outputs": [
    {
     "name": "stdout",
     "output_type": "stream",
     "text": [
      "Dimensiones dataset: (8106, 18)\n"
     ]
    }
   ],
   "source": [
    "# Extract df muertos\n",
    "df_muertos = extract_data_raw_service(2)\n",
    "print(f'Dimensiones dataset: {df_muertos.shape}')"
   ]
  },
  {
   "cell_type": "code",
   "execution_count": 12,
   "metadata": {},
   "outputs": [
    {
     "data": {
      "text/html": [
       "<div>\n",
       "<style scoped>\n",
       "    .dataframe tbody tr th:only-of-type {\n",
       "        vertical-align: middle;\n",
       "    }\n",
       "\n",
       "    .dataframe tbody tr th {\n",
       "        vertical-align: top;\n",
       "    }\n",
       "\n",
       "    .dataframe thead th {\n",
       "        text-align: right;\n",
       "    }\n",
       "</style>\n",
       "<table border=\"1\" class=\"dataframe\">\n",
       "  <thead>\n",
       "    <tr style=\"text-align: right;\">\n",
       "      <th></th>\n",
       "      <th>OBJECTID</th>\n",
       "      <th>CODIGO_ACCIDENTADO</th>\n",
       "      <th>FORMULARIO</th>\n",
       "      <th>FECHA_OCURRENCIA_ACC</th>\n",
       "      <th>HORA_OCURRENCIA_ACC</th>\n",
       "      <th>ANO_OCURRENCIA_ACC</th>\n",
       "      <th>MES_OCURRENCIA_ACC</th>\n",
       "      <th>DIA_OCURRENCIA_ACC</th>\n",
       "      <th>FECHA_HORA_ACC</th>\n",
       "      <th>DIRECCION</th>\n",
       "      <th>CLASE_ACC</th>\n",
       "      <th>LOCALIDAD</th>\n",
       "      <th>CODIGO_VEHICULO</th>\n",
       "      <th>CONDICION</th>\n",
       "      <th>MUERTE_POSTERIOR</th>\n",
       "      <th>FECHA_POSTERIOR_MUERTE</th>\n",
       "      <th>GENERO</th>\n",
       "      <th>EDAD</th>\n",
       "    </tr>\n",
       "  </thead>\n",
       "  <tbody>\n",
       "    <tr>\n",
       "      <th>0</th>\n",
       "      <td>221</td>\n",
       "      <td>12806662</td>\n",
       "      <td>A001446730</td>\n",
       "      <td>1648166400000</td>\n",
       "      <td>02:00:00</td>\n",
       "      <td>2022</td>\n",
       "      <td>MARZO</td>\n",
       "      <td>VIERNES</td>\n",
       "      <td>1648173600000</td>\n",
       "      <td>CL 47  S- KR 85 A  02</td>\n",
       "      <td>CHOQUE</td>\n",
       "      <td>KENNEDY</td>\n",
       "      <td>1.0</td>\n",
       "      <td>MOTOCICLISTA</td>\n",
       "      <td>S</td>\n",
       "      <td>1.648512e+12</td>\n",
       "      <td>MASCULINO</td>\n",
       "      <td>36.0</td>\n",
       "    </tr>\n",
       "    <tr>\n",
       "      <th>1</th>\n",
       "      <td>324</td>\n",
       "      <td>12806777</td>\n",
       "      <td>A001395879</td>\n",
       "      <td>1648339200000</td>\n",
       "      <td>05:32:00</td>\n",
       "      <td>2022</td>\n",
       "      <td>MARZO</td>\n",
       "      <td>DOMINGO</td>\n",
       "      <td>1648359120000</td>\n",
       "      <td>KR 10  - CL 2   02</td>\n",
       "      <td>ATROPELLO</td>\n",
       "      <td>SANTA FE</td>\n",
       "      <td>1.0</td>\n",
       "      <td>MOTOCICLISTA</td>\n",
       "      <td>N</td>\n",
       "      <td>NaN</td>\n",
       "      <td>MASCULINO</td>\n",
       "      <td>24.0</td>\n",
       "    </tr>\n",
       "    <tr>\n",
       "      <th>2</th>\n",
       "      <td>426</td>\n",
       "      <td>12806885</td>\n",
       "      <td>A001446872</td>\n",
       "      <td>1648252800000</td>\n",
       "      <td>22:50:00</td>\n",
       "      <td>2022</td>\n",
       "      <td>MARZO</td>\n",
       "      <td>SABADO</td>\n",
       "      <td>1648335000000</td>\n",
       "      <td>KR 12 D  - CL 19  S 02</td>\n",
       "      <td>CHOQUE</td>\n",
       "      <td>ANTONIO NARINO</td>\n",
       "      <td>2.0</td>\n",
       "      <td>MOTOCICLISTA</td>\n",
       "      <td>N</td>\n",
       "      <td>NaN</td>\n",
       "      <td>MASCULINO</td>\n",
       "      <td>40.0</td>\n",
       "    </tr>\n",
       "  </tbody>\n",
       "</table>\n",
       "</div>"
      ],
      "text/plain": [
       "   OBJECTID CODIGO_ACCIDENTADO  FORMULARIO  FECHA_OCURRENCIA_ACC  \\\n",
       "0       221           12806662  A001446730         1648166400000   \n",
       "1       324           12806777  A001395879         1648339200000   \n",
       "2       426           12806885  A001446872         1648252800000   \n",
       "\n",
       "  HORA_OCURRENCIA_ACC  ANO_OCURRENCIA_ACC MES_OCURRENCIA_ACC  \\\n",
       "0            02:00:00                2022              MARZO   \n",
       "1            05:32:00                2022              MARZO   \n",
       "2            22:50:00                2022              MARZO   \n",
       "\n",
       "  DIA_OCURRENCIA_ACC  FECHA_HORA_ACC               DIRECCION  CLASE_ACC  \\\n",
       "0            VIERNES   1648173600000   CL 47  S- KR 85 A  02     CHOQUE   \n",
       "1            DOMINGO   1648359120000      KR 10  - CL 2   02  ATROPELLO   \n",
       "2             SABADO   1648335000000  KR 12 D  - CL 19  S 02     CHOQUE   \n",
       "\n",
       "        LOCALIDAD  CODIGO_VEHICULO     CONDICION MUERTE_POSTERIOR  \\\n",
       "0         KENNEDY              1.0  MOTOCICLISTA                S   \n",
       "1        SANTA FE              1.0  MOTOCICLISTA                N   \n",
       "2  ANTONIO NARINO              2.0  MOTOCICLISTA                N   \n",
       "\n",
       "   FECHA_POSTERIOR_MUERTE     GENERO  EDAD  \n",
       "0            1.648512e+12  MASCULINO  36.0  \n",
       "1                     NaN  MASCULINO  24.0  \n",
       "2                     NaN  MASCULINO  40.0  "
      ]
     },
     "execution_count": 12,
     "metadata": {},
     "output_type": "execute_result"
    }
   ],
   "source": [
    "df_muertos.head(3)"
   ]
  },
  {
   "cell_type": "code",
   "execution_count": null,
   "metadata": {},
   "outputs": [],
   "source": []
  }
 ],
 "metadata": {
  "kernelspec": {
   "display_name": ".venv",
   "language": "python",
   "name": "python3"
  },
  "language_info": {
   "codemirror_mode": {
    "name": "ipython",
    "version": 3
   },
   "file_extension": ".py",
   "mimetype": "text/x-python",
   "name": "python",
   "nbconvert_exporter": "python",
   "pygments_lexer": "ipython3",
   "version": "3.10.9"
  }
 },
 "nbformat": 4,
 "nbformat_minor": 2
}
